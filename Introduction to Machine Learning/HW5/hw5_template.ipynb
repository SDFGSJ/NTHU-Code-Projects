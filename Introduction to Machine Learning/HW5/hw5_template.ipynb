{
  "nbformat": 4,
  "nbformat_minor": 0,
  "metadata": {
    "colab": {
      "provenance": []
    },
    "kernelspec": {
      "name": "python3",
      "display_name": "Python 3"
    },
    "language_info": {
      "name": "python"
    },
    "accelerator": "GPU",
    "gpuClass": "standard"
  },
  "cells": [
    {
      "cell_type": "markdown",
      "source": [
        "(optional)"
      ],
      "metadata": {
        "id": "4hiUrTp2g31d"
      }
    },
    {
      "cell_type": "code",
      "execution_count": 1,
      "metadata": {
        "id": "02ixxyXJQRNO",
        "colab": {
          "base_uri": "https://localhost:8080/"
        },
        "outputId": "a1572a7d-7f30-49a6-db14-dd3f35a73032"
      },
      "outputs": [
        {
          "output_type": "stream",
          "name": "stdout",
          "text": [
            "Mounted at /content/drive\n"
          ]
        }
      ],
      "source": [
        "from google.colab import drive\n",
        "import os\n",
        "drive.mount('/content/drive')"
      ]
    },
    {
      "cell_type": "code",
      "source": [
        "#print(os.getcwd())\n",
        "os.chdir('/content/drive/MyDrive/Colab Notebooks')\n",
        "print(os.getcwd())\n",
        "#print(os.listdir())"
      ],
      "metadata": {
        "id": "cwb1U7JElJPa",
        "colab": {
          "base_uri": "https://localhost:8080/"
        },
        "outputId": "35343806-2a91-42de-c502-5a5e893d219e"
      },
      "execution_count": 2,
      "outputs": [
        {
          "output_type": "stream",
          "name": "stdout",
          "text": [
            "/content/drive/MyDrive/Colab Notebooks\n"
          ]
        }
      ]
    },
    {
      "cell_type": "markdown",
      "source": [
        "# **HW5: Brain signal classification**\n",
        "In *HW 5*, you need to finish:\n",
        "\n",
        "1.  Model Implementation Part: Implement LSTM and EEGNet models to predict the label of each samples.\n",
        "\n",
        "2.  Model Competition Part: Implementing a model to reach better accuracy performance."
      ],
      "metadata": {
        "id": "CQX9eCfIcRAn"
      }
    },
    {
      "cell_type": "code",
      "source": [
        "import numpy as np\n",
        "import os\n",
        "import math\n",
        "import csv\n",
        "import matplotlib.pyplot as plt\n",
        "# Import the packages you need here\n",
        "import tensorflow as tf\n",
        "from tensorflow.keras import layers, models, constraints"
      ],
      "metadata": {
        "id": "BKJDTLRvQrnY"
      },
      "execution_count": 3,
      "outputs": []
    },
    {
      "cell_type": "code",
      "source": [
        "data = np.load('data.npz')\n",
        "label = np.load('label.npz')"
      ],
      "metadata": {
        "id": "ZQQylnWHQ4yy"
      },
      "execution_count": 4,
      "outputs": []
    },
    {
      "cell_type": "code",
      "source": [
        "X_train = data['X_train']\n",
        "X_val = data['X_val']\n",
        "X_test = data['X_test']\n",
        "\n",
        "Y_train = label['Y_train']\n",
        "Y_val = label['Y_val']"
      ],
      "metadata": {
        "id": "3Ype-nIkQ-bf"
      },
      "execution_count": 5,
      "outputs": []
    },
    {
      "cell_type": "code",
      "source": [
        "X_train.shape, X_val.shape, X_test.shape"
      ],
      "metadata": {
        "id": "xjPvKG_im7mV",
        "colab": {
          "base_uri": "https://localhost:8080/"
        },
        "outputId": "054e1810-31ae-497e-a84b-7ddbde33c44b"
      },
      "execution_count": 6,
      "outputs": [
        {
          "output_type": "execute_result",
          "data": {
            "text/plain": [
              "((604, 22, 200), (152, 22, 200), (190, 22, 200))"
            ]
          },
          "metadata": {},
          "execution_count": 6
        }
      ]
    },
    {
      "cell_type": "code",
      "source": [
        "Y_train.shape, Y_val.shape"
      ],
      "metadata": {
        "colab": {
          "base_uri": "https://localhost:8080/"
        },
        "id": "X7apA2_-lBjF",
        "outputId": "bbb6bb54-fcf4-40e5-82b0-00f71e915cdd"
      },
      "execution_count": 7,
      "outputs": [
        {
          "output_type": "execute_result",
          "data": {
            "text/plain": [
              "((604, 1), (152, 1))"
            ]
          },
          "metadata": {},
          "execution_count": 7
        }
      ]
    },
    {
      "cell_type": "code",
      "source": [
        "#print(X_train)\n",
        "#print(Y_train)"
      ],
      "metadata": {
        "id": "oVXn-qk40SFg"
      },
      "execution_count": 8,
      "outputs": []
    },
    {
      "cell_type": "markdown",
      "source": [
        "## Model Implementation Part"
      ],
      "metadata": {
        "id": "diYYd3e7eopi"
      }
    },
    {
      "cell_type": "markdown",
      "source": [
        "### LSTM"
      ],
      "metadata": {
        "id": "97BpHWOAevWJ"
      }
    },
    {
      "cell_type": "code",
      "source": [
        "# Build your model here:\n",
        "epochs = 40\n",
        "model = models.Sequential()\n",
        "model.add(layers.LSTM(150, input_shape = (22, 200)))    #100\n",
        "model.add(layers.Dense(6))\n",
        "\n",
        "model.compile(optimizer = 'adam',\n",
        "              loss = tf.keras.losses.SparseCategoricalCrossentropy(from_logits = True),\n",
        "              metrics = ['accuracy'])\n",
        "\n",
        "history = model.fit(X_train, Y_train, epochs = epochs, validation_data = (X_val, Y_val))\n",
        "training_loss = history.history['loss']\n",
        "\n",
        "test_loss, test_acc = model.evaluate(X_val, Y_val, verbose = 2)\n",
        "print(\"test accuracy =\", test_acc)\n",
        "\n",
        "model.summary()\n",
        "\n",
        "# plot the training loss\n",
        "plt.plot(training_loss)\n",
        "plt.ylabel('loss')\n",
        "plt.xlabel('iterations = ' + str(epochs))\n",
        "plt.title(\"LSTM training loss\")\n",
        "plt.show()"
      ],
      "metadata": {
        "id": "xxFGe6YRe7qn",
        "colab": {
          "base_uri": "https://localhost:8080/",
          "height": 1000
        },
        "outputId": "9e3af662-4cdc-4a75-e1c4-abb82fd1dda3"
      },
      "execution_count": 9,
      "outputs": [
        {
          "output_type": "stream",
          "name": "stdout",
          "text": [
            "Epoch 1/40\n",
            "19/19 [==============================] - 7s 30ms/step - loss: 1.3362 - accuracy: 0.4454 - val_loss: 0.9374 - val_accuracy: 0.7039\n",
            "Epoch 2/40\n",
            "19/19 [==============================] - 0s 9ms/step - loss: 0.7164 - accuracy: 0.7964 - val_loss: 0.7579 - val_accuracy: 0.6776\n",
            "Epoch 3/40\n",
            "19/19 [==============================] - 0s 7ms/step - loss: 0.4502 - accuracy: 0.8957 - val_loss: 0.7104 - val_accuracy: 0.6842\n",
            "Epoch 4/40\n",
            "19/19 [==============================] - 0s 7ms/step - loss: 0.2880 - accuracy: 0.9619 - val_loss: 0.6657 - val_accuracy: 0.7105\n",
            "Epoch 5/40\n",
            "19/19 [==============================] - 0s 7ms/step - loss: 0.1678 - accuracy: 0.9917 - val_loss: 0.5689 - val_accuracy: 0.7763\n",
            "Epoch 6/40\n",
            "19/19 [==============================] - 0s 7ms/step - loss: 0.0983 - accuracy: 1.0000 - val_loss: 0.5524 - val_accuracy: 0.7829\n",
            "Epoch 7/40\n",
            "19/19 [==============================] - 0s 7ms/step - loss: 0.0579 - accuracy: 1.0000 - val_loss: 0.5578 - val_accuracy: 0.7697\n",
            "Epoch 8/40\n",
            "19/19 [==============================] - 0s 7ms/step - loss: 0.0373 - accuracy: 1.0000 - val_loss: 0.5430 - val_accuracy: 0.7895\n",
            "Epoch 9/40\n",
            "19/19 [==============================] - 0s 7ms/step - loss: 0.0268 - accuracy: 1.0000 - val_loss: 0.5275 - val_accuracy: 0.8026\n",
            "Epoch 10/40\n",
            "19/19 [==============================] - 0s 7ms/step - loss: 0.0199 - accuracy: 1.0000 - val_loss: 0.5321 - val_accuracy: 0.7829\n",
            "Epoch 11/40\n",
            "19/19 [==============================] - 0s 7ms/step - loss: 0.0156 - accuracy: 1.0000 - val_loss: 0.5282 - val_accuracy: 0.7829\n",
            "Epoch 12/40\n",
            "19/19 [==============================] - 0s 7ms/step - loss: 0.0123 - accuracy: 1.0000 - val_loss: 0.5161 - val_accuracy: 0.8026\n",
            "Epoch 13/40\n",
            "19/19 [==============================] - 0s 8ms/step - loss: 0.0100 - accuracy: 1.0000 - val_loss: 0.5190 - val_accuracy: 0.8026\n",
            "Epoch 14/40\n",
            "19/19 [==============================] - 0s 7ms/step - loss: 0.0083 - accuracy: 1.0000 - val_loss: 0.5232 - val_accuracy: 0.8026\n",
            "Epoch 15/40\n",
            "19/19 [==============================] - 0s 7ms/step - loss: 0.0070 - accuracy: 1.0000 - val_loss: 0.5143 - val_accuracy: 0.8158\n",
            "Epoch 16/40\n",
            "19/19 [==============================] - 0s 7ms/step - loss: 0.0059 - accuracy: 1.0000 - val_loss: 0.5121 - val_accuracy: 0.8158\n",
            "Epoch 17/40\n",
            "19/19 [==============================] - 0s 7ms/step - loss: 0.0051 - accuracy: 1.0000 - val_loss: 0.5180 - val_accuracy: 0.8092\n",
            "Epoch 18/40\n",
            "19/19 [==============================] - 0s 7ms/step - loss: 0.0045 - accuracy: 1.0000 - val_loss: 0.5111 - val_accuracy: 0.8026\n",
            "Epoch 19/40\n",
            "19/19 [==============================] - 0s 7ms/step - loss: 0.0040 - accuracy: 1.0000 - val_loss: 0.5133 - val_accuracy: 0.8092\n",
            "Epoch 20/40\n",
            "19/19 [==============================] - 0s 7ms/step - loss: 0.0036 - accuracy: 1.0000 - val_loss: 0.5130 - val_accuracy: 0.8026\n",
            "Epoch 21/40\n",
            "19/19 [==============================] - 0s 7ms/step - loss: 0.0032 - accuracy: 1.0000 - val_loss: 0.5120 - val_accuracy: 0.8026\n",
            "Epoch 22/40\n",
            "19/19 [==============================] - 0s 7ms/step - loss: 0.0029 - accuracy: 1.0000 - val_loss: 0.5177 - val_accuracy: 0.8026\n",
            "Epoch 23/40\n",
            "19/19 [==============================] - 0s 7ms/step - loss: 0.0027 - accuracy: 1.0000 - val_loss: 0.5169 - val_accuracy: 0.8092\n",
            "Epoch 24/40\n",
            "19/19 [==============================] - 0s 7ms/step - loss: 0.0025 - accuracy: 1.0000 - val_loss: 0.5176 - val_accuracy: 0.8026\n",
            "Epoch 25/40\n",
            "19/19 [==============================] - 0s 7ms/step - loss: 0.0023 - accuracy: 1.0000 - val_loss: 0.5194 - val_accuracy: 0.8092\n",
            "Epoch 26/40\n",
            "19/19 [==============================] - 0s 6ms/step - loss: 0.0021 - accuracy: 1.0000 - val_loss: 0.5210 - val_accuracy: 0.8026\n",
            "Epoch 27/40\n",
            "19/19 [==============================] - 0s 7ms/step - loss: 0.0019 - accuracy: 1.0000 - val_loss: 0.5243 - val_accuracy: 0.7961\n",
            "Epoch 28/40\n",
            "19/19 [==============================] - 0s 7ms/step - loss: 0.0018 - accuracy: 1.0000 - val_loss: 0.5233 - val_accuracy: 0.8026\n",
            "Epoch 29/40\n",
            "19/19 [==============================] - 0s 7ms/step - loss: 0.0017 - accuracy: 1.0000 - val_loss: 0.5243 - val_accuracy: 0.8092\n",
            "Epoch 30/40\n",
            "19/19 [==============================] - 0s 6ms/step - loss: 0.0016 - accuracy: 1.0000 - val_loss: 0.5324 - val_accuracy: 0.7829\n",
            "Epoch 31/40\n",
            "19/19 [==============================] - 0s 8ms/step - loss: 0.0015 - accuracy: 1.0000 - val_loss: 0.5284 - val_accuracy: 0.8026\n",
            "Epoch 32/40\n",
            "19/19 [==============================] - 0s 7ms/step - loss: 0.0014 - accuracy: 1.0000 - val_loss: 0.5316 - val_accuracy: 0.7895\n",
            "Epoch 33/40\n",
            "19/19 [==============================] - 0s 7ms/step - loss: 0.0013 - accuracy: 1.0000 - val_loss: 0.5330 - val_accuracy: 0.7895\n",
            "Epoch 34/40\n",
            "19/19 [==============================] - 0s 7ms/step - loss: 0.0012 - accuracy: 1.0000 - val_loss: 0.5384 - val_accuracy: 0.7895\n",
            "Epoch 35/40\n",
            "19/19 [==============================] - 0s 7ms/step - loss: 0.0011 - accuracy: 1.0000 - val_loss: 0.5385 - val_accuracy: 0.7895\n",
            "Epoch 36/40\n",
            "19/19 [==============================] - 0s 6ms/step - loss: 0.0011 - accuracy: 1.0000 - val_loss: 0.5381 - val_accuracy: 0.7895\n",
            "Epoch 37/40\n",
            "19/19 [==============================] - 0s 7ms/step - loss: 0.0010 - accuracy: 1.0000 - val_loss: 0.5421 - val_accuracy: 0.7895\n",
            "Epoch 38/40\n",
            "19/19 [==============================] - 0s 7ms/step - loss: 9.6397e-04 - accuracy: 1.0000 - val_loss: 0.5451 - val_accuracy: 0.7961\n",
            "Epoch 39/40\n",
            "19/19 [==============================] - 0s 7ms/step - loss: 9.1522e-04 - accuracy: 1.0000 - val_loss: 0.5494 - val_accuracy: 0.7961\n",
            "Epoch 40/40\n",
            "19/19 [==============================] - 0s 7ms/step - loss: 8.6570e-04 - accuracy: 1.0000 - val_loss: 0.5473 - val_accuracy: 0.7895\n",
            "5/5 - 0s - loss: 0.5473 - accuracy: 0.7895 - 32ms/epoch - 6ms/step\n",
            "test accuracy = 0.7894737124443054\n",
            "Model: \"sequential\"\n",
            "_________________________________________________________________\n",
            " Layer (type)                Output Shape              Param #   \n",
            "=================================================================\n",
            " lstm (LSTM)                 (None, 150)               210600    \n",
            "                                                                 \n",
            " dense (Dense)               (None, 6)                 906       \n",
            "                                                                 \n",
            "=================================================================\n",
            "Total params: 211,506\n",
            "Trainable params: 211,506\n",
            "Non-trainable params: 0\n",
            "_________________________________________________________________\n"
          ]
        },
        {
          "output_type": "display_data",
          "data": {
            "text/plain": [
              "<Figure size 432x288 with 1 Axes>"
            ],
            "image/png": "[encoded data removed]"
          },
          "metadata": {
            "needs_background": "light"
          }
        }
      ]
    },
    {
      "cell_type": "code",
      "source": [
        "lstm_pred_test = model.predict(X_test)\n",
        "print(lstm_pred_test)\n",
        "lstm_pred_test = np.argmax(lstm_pred_test, axis = 1).reshape(190, 1).astype(int)\n",
        "print(lstm_pred_test)\n",
        "print(lstm_pred_test.shape)\n",
        "print(lstm_pred_test.dtype)"
      ],
      "metadata": {
        "colab": {
          "base_uri": "https://localhost:8080/"
        },
        "id": "QbgyJzBYTx-r",
        "outputId": "842823df-c736-433c-ddbb-9c4491317ecb"
      },
      "execution_count": 10,
      "outputs": [
        {
          "output_type": "stream",
          "name": "stdout",
          "text": [
            "6/6 [==============================] - 0s 3ms/step\n",
            "[[ 2.3601604   1.232605    2.2881181  -3.601222   -1.2461982   0.6650446 ]\n",
            " [-2.6669695  -2.9929025  -3.327166    5.4006667   2.7681518   0.17301017]\n",
            " [-2.648839    1.348983   -1.7326144   3.3711758   2.5213466  -0.91494495]\n",
            " ...\n",
            " [ 3.2818143   6.1600685  -3.491572   -1.5146071   0.05731051 -2.376657  ]\n",
            " [ 3.6008213   5.142181   -1.6647666  -2.4641047  -2.1527858  -0.48689964]\n",
            " [ 1.8020871   6.2058606  -2.9597101  -0.70687914 -1.0871023  -1.3008788 ]]\n",
            "[[0]\n",
            " [3]\n",
            " [3]\n",
            " [2]\n",
            " [5]\n",
            " [1]\n",
            " [1]\n",
            " [2]\n",
            " [5]\n",
            " [0]\n",
            " [2]\n",
            " [2]\n",
            " [0]\n",
            " [5]\n",
            " [0]\n",
            " [3]\n",
            " [5]\n",
            " [5]\n",
            " [3]\n",
            " [1]\n",
            " [1]\n",
            " [0]\n",
            " [5]\n",
            " [5]\n",
            " [4]\n",
            " [3]\n",
            " [2]\n",
            " [1]\n",
            " [0]\n",
            " [2]\n",
            " [5]\n",
            " [1]\n",
            " [0]\n",
            " [2]\n",
            " [2]\n",
            " [0]\n",
            " [5]\n",
            " [0]\n",
            " [2]\n",
            " [2]\n",
            " [4]\n",
            " [1]\n",
            " [4]\n",
            " [4]\n",
            " [2]\n",
            " [1]\n",
            " [3]\n",
            " [0]\n",
            " [3]\n",
            " [2]\n",
            " [2]\n",
            " [4]\n",
            " [4]\n",
            " [3]\n",
            " [4]\n",
            " [3]\n",
            " [5]\n",
            " [2]\n",
            " [0]\n",
            " [1]\n",
            " [4]\n",
            " [5]\n",
            " [1]\n",
            " [2]\n",
            " [4]\n",
            " [3]\n",
            " [1]\n",
            " [2]\n",
            " [0]\n",
            " [4]\n",
            " [5]\n",
            " [4]\n",
            " [5]\n",
            " [3]\n",
            " [2]\n",
            " [3]\n",
            " [4]\n",
            " [4]\n",
            " [3]\n",
            " [2]\n",
            " [1]\n",
            " [3]\n",
            " [0]\n",
            " [1]\n",
            " [1]\n",
            " [3]\n",
            " [3]\n",
            " [1]\n",
            " [1]\n",
            " [4]\n",
            " [2]\n",
            " [5]\n",
            " [0]\n",
            " [2]\n",
            " [4]\n",
            " [1]\n",
            " [0]\n",
            " [5]\n",
            " [2]\n",
            " [5]\n",
            " [3]\n",
            " [4]\n",
            " [3]\n",
            " [0]\n",
            " [3]\n",
            " [4]\n",
            " [1]\n",
            " [2]\n",
            " [1]\n",
            " [1]\n",
            " [1]\n",
            " [5]\n",
            " [2]\n",
            " [4]\n",
            " [4]\n",
            " [4]\n",
            " [1]\n",
            " [4]\n",
            " [1]\n",
            " [1]\n",
            " [5]\n",
            " [5]\n",
            " [3]\n",
            " [0]\n",
            " [3]\n",
            " [0]\n",
            " [0]\n",
            " [0]\n",
            " [3]\n",
            " [1]\n",
            " [0]\n",
            " [1]\n",
            " [1]\n",
            " [2]\n",
            " [4]\n",
            " [5]\n",
            " [2]\n",
            " [1]\n",
            " [3]\n",
            " [3]\n",
            " [1]\n",
            " [0]\n",
            " [2]\n",
            " [5]\n",
            " [4]\n",
            " [1]\n",
            " [3]\n",
            " [3]\n",
            " [3]\n",
            " [1]\n",
            " [5]\n",
            " [3]\n",
            " [1]\n",
            " [2]\n",
            " [1]\n",
            " [1]\n",
            " [2]\n",
            " [0]\n",
            " [2]\n",
            " [3]\n",
            " [1]\n",
            " [1]\n",
            " [3]\n",
            " [5]\n",
            " [1]\n",
            " [5]\n",
            " [2]\n",
            " [5]\n",
            " [3]\n",
            " [1]\n",
            " [2]\n",
            " [2]\n",
            " [5]\n",
            " [2]\n",
            " [4]\n",
            " [4]\n",
            " [1]\n",
            " [4]\n",
            " [0]\n",
            " [4]\n",
            " [2]\n",
            " [3]\n",
            " [4]\n",
            " [2]\n",
            " [4]\n",
            " [0]\n",
            " [5]\n",
            " [1]\n",
            " [1]\n",
            " [1]]\n",
            "(190, 1)\n",
            "int64\n"
          ]
        }
      ]
    },
    {
      "cell_type": "code",
      "source": [
        "output = lstm_pred_test\n",
        "assert(output.shape == (190, 1))\n",
        "np.savetxt('lstm_output.csv', output, fmt=\"%d\", delimiter=\",\")"
      ],
      "metadata": {
        "id": "sIXH_6BHjm6w"
      },
      "execution_count": 11,
      "outputs": []
    },
    {
      "cell_type": "markdown",
      "source": [
        "### EEGNet"
      ],
      "metadata": {
        "id": "xSGZPbDHrfOr"
      }
    },
    {
      "cell_type": "code",
      "source": [
        "# Build your model here:\n",
        "def EEGNet(nb_classes, Chans = 64, Samples = 128, \n",
        "             dropoutRate = 0.5, kernLength = 64, F1 = 8, \n",
        "             D = 2, F2 = 16, norm_rate = 0.25, dropoutType = 'Dropout'):\n",
        "    \"\"\" Keras Implementation of EEGNet\n",
        "    http://iopscience.iop.org/article/10.1088/1741-2552/aace8c/meta\n",
        "    Note that this implements the newest version of EEGNet and NOT the earlier\n",
        "    version (version v1 and v2 on arxiv). We strongly recommend using this\n",
        "    architecture as it performs much better and has nicer properties than\n",
        "    our earlier version. For example:\n",
        "        \n",
        "        1. Depthwise Convolutions to learn spatial filters within a \n",
        "        temporal convolution. The use of the depth_multiplier option maps \n",
        "        exactly to the number of spatial filters learned within a temporal\n",
        "        filter. This matches the setup of algorithms like FBCSP which learn \n",
        "        spatial filters within each filter in a filter-bank. This also limits \n",
        "        the number of free parameters to fit when compared to a fully-connected\n",
        "        convolution. \n",
        "        \n",
        "        2. Separable Convolutions to learn how to optimally combine spatial\n",
        "        filters across temporal bands. Separable Convolutions are Depthwise\n",
        "        Convolutions followed by (1x1) Pointwise Convolutions. \n",
        "        \n",
        "    \n",
        "    While the original paper used Dropout, we found that SpatialDropout2D \n",
        "    sometimes produced slightly better results for classification of ERP \n",
        "    signals. However, SpatialDropout2D significantly reduced performance \n",
        "    on the Oscillatory dataset (SMR, BCI-IV Dataset 2A). We recommend using\n",
        "    the default Dropout in most cases.\n",
        "        \n",
        "    Assumes the input signal is sampled at 128Hz. If you want to use this model\n",
        "    for any other sampling rate you will need to modify the lengths of temporal\n",
        "    kernels and average pooling size in blocks 1 and 2 as needed (double the \n",
        "    kernel lengths for double the sampling rate, etc). Note that we haven't \n",
        "    tested the model performance with this rule so this may not work well. \n",
        "    \n",
        "    The model with default parameters gives the EEGNet-8,2 model as discussed\n",
        "    in the paper. This model should do pretty well in general, although it is\n",
        "\tadvised to do some model searching to get optimal performance on your\n",
        "\tparticular dataset.\n",
        "    We set F2 = F1 * D (number of input filters = number of output filters) for\n",
        "    the SeparableConv2D layer. We haven't extensively tested other values of this\n",
        "    parameter (say, F2 < F1 * D for compressed learning, and F2 > F1 * D for\n",
        "    overcomplete). We believe the main parameters to focus on are F1 and D. \n",
        "    Inputs:\n",
        "        \n",
        "      nb_classes      : int, number of classes to classify\n",
        "      Chans, Samples  : number of channels and time points in the EEG data\n",
        "      dropoutRate     : dropout fraction\n",
        "      kernLength      : length of temporal convolution in first layer. We found\n",
        "                        that setting this to be half the sampling rate worked\n",
        "                        well in practice. For the SMR dataset in particular\n",
        "                        since the data was high-passed at 4Hz we used a kernel\n",
        "                        length of 32.     \n",
        "      F1, F2          : number of temporal filters (F1) and number of pointwise\n",
        "                        filters (F2) to learn. Default: F1 = 8, F2 = F1 * D. \n",
        "      D               : number of spatial filters to learn within each temporal\n",
        "                        convolution. Default: D = 2\n",
        "      dropoutType     : Either SpatialDropout2D or Dropout, passed as a string.\n",
        "    \"\"\"\n",
        "    \n",
        "    if dropoutType == 'SpatialDropout2D':\n",
        "        dropoutType = layers.SpatialDropout2D\n",
        "    elif dropoutType == 'Dropout':\n",
        "        dropoutType = layers.Dropout\n",
        "    else:\n",
        "        raise ValueError('dropoutType must be one of SpatialDropout2D '\n",
        "                         'or Dropout, passed as a string.')\n",
        "    \n",
        "    input1   = layers.Input(shape = (Chans, Samples, 1))\n",
        "\n",
        "    ##################################################################\n",
        "    block1       = layers.Conv2D(F1, (1, kernLength), padding = 'same',\n",
        "                                   input_shape = (Chans, Samples, 1),\n",
        "                                   use_bias = False)(input1)\n",
        "    block1       = layers.BatchNormalization()(block1)\n",
        "    block1       = layers.DepthwiseConv2D((Chans, 1), use_bias = False, \n",
        "                                   depth_multiplier = D,\n",
        "                                   depthwise_constraint = constraints.max_norm(1.))(block1)\n",
        "    block1       = layers.BatchNormalization()(block1)\n",
        "    block1       = layers.Activation('elu')(block1)\n",
        "    block1       = layers.AveragePooling2D((1, 4))(block1)\n",
        "    block1       = dropoutType(dropoutRate)(block1)\n",
        "    \n",
        "    block2       = layers.SeparableConv2D(F2, (1, 16),\n",
        "                                   use_bias = False, padding = 'same')(block1)\n",
        "    block2       = layers.BatchNormalization()(block2)\n",
        "    block2       = layers.Activation('elu')(block2)\n",
        "    block2       = layers.AveragePooling2D((1, 8))(block2)\n",
        "    block2       = dropoutType(dropoutRate)(block2)\n",
        "        \n",
        "    flatten      = layers.Flatten(name = 'flatten')(block2)\n",
        "    \n",
        "    dense        = layers.Dense(nb_classes, name = 'dense', \n",
        "                         kernel_constraint = constraints.max_norm(norm_rate))(flatten)\n",
        "    softmax      = layers.Activation('softmax', name = 'softmax')(dense)\n",
        "    \n",
        "    return models.Model(inputs=input1, outputs=softmax)"
      ],
      "metadata": {
        "id": "OCUyBSH1hvqG"
      },
      "execution_count": 12,
      "outputs": []
    },
    {
      "cell_type": "code",
      "source": [
        "epochs = 40\n",
        "EEGNet_model = EEGNet(\n",
        "    nb_classes = 6,\n",
        "    Chans = 22,\n",
        "    Samples = 200,\n",
        "    kernLength = 100\n",
        ")\n",
        "\n",
        "EEGNet_model.compile(optimizer = 'adam',\n",
        "              loss = tf.keras.losses.SparseCategoricalCrossentropy(from_logits = True),\n",
        "              metrics = ['accuracy'])\n",
        "\n",
        "history = EEGNet_model.fit(X_train, Y_train, epochs = epochs, validation_data = (X_val, Y_val))\n",
        "training_loss = history.history['loss']\n",
        "\n",
        "test_loss, test_acc = EEGNet_model.evaluate(X_val, Y_val, verbose = 2)\n",
        "print(\"test accuracy =\", test_acc)\n",
        "\n",
        "EEGNet_model.summary()\n",
        "\n",
        "# plot the training loss\n",
        "plt.plot(training_loss)\n",
        "plt.ylabel('loss')\n",
        "plt.xlabel('iterations = ' + str(epochs))\n",
        "plt.title(\"EEGNet training loss\")\n",
        "plt.show()"
      ],
      "metadata": {
        "colab": {
          "base_uri": "https://localhost:8080/",
          "height": 1000
        },
        "id": "IDdb06EwH_CL",
        "outputId": "ac27c47e-7d4e-4f6c-8cab-76bfd9e92fac"
      },
      "execution_count": 13,
      "outputs": [
        {
          "output_type": "stream",
          "name": "stdout",
          "text": [
            "Epoch 1/40\n"
          ]
        },
        {
          "output_type": "stream",
          "name": "stderr",
          "text": [
            "/usr/local/lib/python3.8/dist-packages/tensorflow/python/util/dispatch.py:1082: UserWarning: \"`sparse_categorical_crossentropy` received `from_logits=True`, but the `output` argument was produced by a sigmoid or softmax activation and thus does not represent logits. Was this intended?\"\n",
            "  return dispatch_target(*args, **kwargs)\n"
          ]
        },
        {
          "output_type": "stream",
          "name": "stdout",
          "text": [
            "19/19 [==============================] - 5s 25ms/step - loss: 1.7510 - accuracy: 0.2632 - val_loss: 1.6760 - val_accuracy: 0.6053\n",
            "Epoch 2/40\n",
            "19/19 [==============================] - 0s 9ms/step - loss: 1.5892 - accuracy: 0.4851 - val_loss: 1.5858 - val_accuracy: 0.7237\n",
            "Epoch 3/40\n",
            "19/19 [==============================] - 0s 9ms/step - loss: 1.4268 - accuracy: 0.6474 - val_loss: 1.5083 - val_accuracy: 0.7895\n",
            "Epoch 4/40\n",
            "19/19 [==============================] - 0s 9ms/step - loss: 1.2091 - accuracy: 0.7666 - val_loss: 1.3696 - val_accuracy: 0.7961\n",
            "Epoch 5/40\n",
            "19/19 [==============================] - 0s 8ms/step - loss: 1.0360 - accuracy: 0.8046 - val_loss: 1.2190 - val_accuracy: 0.8224\n",
            "Epoch 6/40\n",
            "19/19 [==============================] - 0s 8ms/step - loss: 0.9098 - accuracy: 0.8361 - val_loss: 1.1048 - val_accuracy: 0.8421\n",
            "Epoch 7/40\n",
            "19/19 [==============================] - 0s 8ms/step - loss: 0.8458 - accuracy: 0.8427 - val_loss: 1.0089 - val_accuracy: 0.8684\n",
            "Epoch 8/40\n",
            "19/19 [==============================] - 0s 11ms/step - loss: 0.8001 - accuracy: 0.8758 - val_loss: 0.9594 - val_accuracy: 0.8882\n",
            "Epoch 9/40\n",
            "19/19 [==============================] - 0s 8ms/step - loss: 0.7690 - accuracy: 0.8709 - val_loss: 0.9122 - val_accuracy: 0.8816\n",
            "Epoch 10/40\n",
            "19/19 [==============================] - 0s 8ms/step - loss: 0.7308 - accuracy: 0.8957 - val_loss: 0.8753 - val_accuracy: 0.9013\n",
            "Epoch 11/40\n",
            "19/19 [==============================] - 0s 9ms/step - loss: 0.7140 - accuracy: 0.9007 - val_loss: 0.8110 - val_accuracy: 0.9013\n",
            "Epoch 12/40\n",
            "19/19 [==============================] - 0s 8ms/step - loss: 0.6749 - accuracy: 0.9073 - val_loss: 0.7753 - val_accuracy: 0.9145\n",
            "Epoch 13/40\n",
            "19/19 [==============================] - 0s 9ms/step - loss: 0.6581 - accuracy: 0.9106 - val_loss: 0.7538 - val_accuracy: 0.9145\n",
            "Epoch 14/40\n",
            "19/19 [==============================] - 0s 8ms/step - loss: 0.6573 - accuracy: 0.9238 - val_loss: 0.7191 - val_accuracy: 0.9211\n",
            "Epoch 15/40\n",
            "19/19 [==============================] - 0s 8ms/step - loss: 0.6403 - accuracy: 0.9089 - val_loss: 0.6890 - val_accuracy: 0.9276\n",
            "Epoch 16/40\n",
            "19/19 [==============================] - 0s 8ms/step - loss: 0.6231 - accuracy: 0.9288 - val_loss: 0.6697 - val_accuracy: 0.9408\n",
            "Epoch 17/40\n",
            "19/19 [==============================] - 0s 8ms/step - loss: 0.5912 - accuracy: 0.9238 - val_loss: 0.6358 - val_accuracy: 0.9539\n",
            "Epoch 18/40\n",
            "19/19 [==============================] - 0s 8ms/step - loss: 0.5849 - accuracy: 0.9371 - val_loss: 0.6039 - val_accuracy: 0.9539\n",
            "Epoch 19/40\n",
            "19/19 [==============================] - 0s 8ms/step - loss: 0.5878 - accuracy: 0.9222 - val_loss: 0.5586 - val_accuracy: 0.9474\n",
            "Epoch 20/40\n",
            "19/19 [==============================] - 0s 8ms/step - loss: 0.5617 - accuracy: 0.9338 - val_loss: 0.5581 - val_accuracy: 0.9737\n",
            "Epoch 21/40\n",
            "19/19 [==============================] - 0s 8ms/step - loss: 0.5469 - accuracy: 0.9437 - val_loss: 0.5326 - val_accuracy: 0.9671\n",
            "Epoch 22/40\n",
            "19/19 [==============================] - 0s 8ms/step - loss: 0.5512 - accuracy: 0.9487 - val_loss: 0.5374 - val_accuracy: 0.9737\n",
            "Epoch 23/40\n",
            "19/19 [==============================] - 0s 8ms/step - loss: 0.5223 - accuracy: 0.9338 - val_loss: 0.5097 - val_accuracy: 0.9803\n",
            "Epoch 24/40\n",
            "19/19 [==============================] - 0s 8ms/step - loss: 0.5192 - accuracy: 0.9487 - val_loss: 0.4885 - val_accuracy: 0.9737\n",
            "Epoch 25/40\n",
            "19/19 [==============================] - 0s 7ms/step - loss: 0.4993 - accuracy: 0.9536 - val_loss: 0.4716 - val_accuracy: 0.9868\n",
            "Epoch 26/40\n",
            "19/19 [==============================] - 0s 7ms/step - loss: 0.4938 - accuracy: 0.9553 - val_loss: 0.4853 - val_accuracy: 0.9868\n",
            "Epoch 27/40\n",
            "19/19 [==============================] - 0s 8ms/step - loss: 0.4915 - accuracy: 0.9570 - val_loss: 0.4647 - val_accuracy: 0.9803\n",
            "Epoch 28/40\n",
            "19/19 [==============================] - 0s 8ms/step - loss: 0.4859 - accuracy: 0.9470 - val_loss: 0.4382 - val_accuracy: 0.9868\n",
            "Epoch 29/40\n",
            "19/19 [==============================] - 0s 8ms/step - loss: 0.4723 - accuracy: 0.9586 - val_loss: 0.4314 - val_accuracy: 0.9868\n",
            "Epoch 30/40\n",
            "19/19 [==============================] - 0s 9ms/step - loss: 0.4736 - accuracy: 0.9354 - val_loss: 0.3977 - val_accuracy: 0.9934\n",
            "Epoch 31/40\n",
            "19/19 [==============================] - 0s 8ms/step - loss: 0.4465 - accuracy: 0.9586 - val_loss: 0.4031 - val_accuracy: 0.9934\n",
            "Epoch 32/40\n",
            "19/19 [==============================] - 0s 8ms/step - loss: 0.4467 - accuracy: 0.9652 - val_loss: 0.3935 - val_accuracy: 0.9868\n",
            "Epoch 33/40\n",
            "19/19 [==============================] - 0s 8ms/step - loss: 0.4500 - accuracy: 0.9437 - val_loss: 0.3737 - val_accuracy: 0.9934\n",
            "Epoch 34/40\n",
            "19/19 [==============================] - 0s 7ms/step - loss: 0.4362 - accuracy: 0.9702 - val_loss: 0.3693 - val_accuracy: 0.9934\n",
            "Epoch 35/40\n",
            "19/19 [==============================] - 0s 8ms/step - loss: 0.4130 - accuracy: 0.9652 - val_loss: 0.3591 - val_accuracy: 0.9868\n",
            "Epoch 36/40\n",
            "19/19 [==============================] - 0s 8ms/step - loss: 0.4112 - accuracy: 0.9619 - val_loss: 0.3611 - val_accuracy: 0.9934\n",
            "Epoch 37/40\n",
            "19/19 [==============================] - 0s 8ms/step - loss: 0.4088 - accuracy: 0.9735 - val_loss: 0.3574 - val_accuracy: 0.9934\n",
            "Epoch 38/40\n",
            "19/19 [==============================] - 0s 8ms/step - loss: 0.4027 - accuracy: 0.9685 - val_loss: 0.3467 - val_accuracy: 0.9803\n",
            "Epoch 39/40\n",
            "19/19 [==============================] - 0s 7ms/step - loss: 0.4047 - accuracy: 0.9487 - val_loss: 0.3341 - val_accuracy: 0.9737\n",
            "Epoch 40/40\n",
            "19/19 [==============================] - 0s 8ms/step - loss: 0.3925 - accuracy: 0.9685 - val_loss: 0.3411 - val_accuracy: 0.9803\n",
            "5/5 - 0s - loss: 0.3411 - accuracy: 0.9803 - 28ms/epoch - 6ms/step\n",
            "test accuracy = 0.9802631735801697\n",
            "Model: \"model\"\n",
            "_________________________________________________________________\n",
            " Layer (type)                Output Shape              Param #   \n",
            "=================================================================\n",
            " input_1 (InputLayer)        [(None, 22, 200, 1)]      0         \n",
            "                                                                 \n",
            " conv2d (Conv2D)             (None, 22, 200, 8)        800       \n",
            "                                                                 \n",
            " batch_normalization (BatchN  (None, 22, 200, 8)       32        \n",
            " ormalization)                                                   \n",
            "                                                                 \n",
            " depthwise_conv2d (Depthwise  (None, 1, 200, 16)       352       \n",
            " Conv2D)                                                         \n",
            "                                                                 \n",
            " batch_normalization_1 (Batc  (None, 1, 200, 16)       64        \n",
            " hNormalization)                                                 \n",
            "                                                                 \n",
            " activation (Activation)     (None, 1, 200, 16)        0         \n",
            "                                                                 \n",
            " average_pooling2d (AverageP  (None, 1, 50, 16)        0         \n",
            " ooling2D)                                                       \n",
            "                                                                 \n",
            " dropout (Dropout)           (None, 1, 50, 16)         0         \n",
            "                                                                 \n",
            " separable_conv2d (Separable  (None, 1, 50, 16)        512       \n",
            " Conv2D)                                                         \n",
            "                                                                 \n",
            " batch_normalization_2 (Batc  (None, 1, 50, 16)        64        \n",
            " hNormalization)                                                 \n",
            "                                                                 \n",
            " activation_1 (Activation)   (None, 1, 50, 16)         0         \n",
            "                                                                 \n",
            " average_pooling2d_1 (Averag  (None, 1, 6, 16)         0         \n",
            " ePooling2D)                                                     \n",
            "                                                                 \n",
            " dropout_1 (Dropout)         (None, 1, 6, 16)          0         \n",
            "                                                                 \n",
            " flatten (Flatten)           (None, 96)                0         \n",
            "                                                                 \n",
            " dense (Dense)               (None, 6)                 582       \n",
            "                                                                 \n",
            " softmax (Activation)        (None, 6)                 0         \n",
            "                                                                 \n",
            "=================================================================\n",
            "Total params: 2,406\n",
            "Trainable params: 2,326\n",
            "Non-trainable params: 80\n",
            "_________________________________________________________________\n"
          ]
        },
        {
          "output_type": "display_data",
          "data": {
            "text/plain": [
              "<Figure size 432x288 with 1 Axes>"
            ],
            "image/png": "[encoded data removed]"
          },
          "metadata": {
            "needs_background": "light"
          }
        }
      ]
    },
    {
      "cell_type": "code",
      "source": [
        "EEGNet_pred_test = EEGNet_model.predict(X_test)\n",
        "print(EEGNet_pred_test)\n",
        "EEGNet_pred_test = np.argmax(EEGNet_pred_test, axis = 1).reshape(190, 1).astype(int)\n",
        "print(EEGNet_pred_test)\n",
        "print(EEGNet_pred_test.shape)\n",
        "print(EEGNet_pred_test.dtype)"
      ],
      "metadata": {
        "colab": {
          "base_uri": "https://localhost:8080/"
        },
        "id": "Dkn3up97KAHK",
        "outputId": "0d664e2d-e4db-47b6-f556-f7f585745d67"
      },
      "execution_count": 14,
      "outputs": [
        {
          "output_type": "stream",
          "name": "stdout",
          "text": [
            "6/6 [==============================] - 0s 8ms/step\n",
            "[[0.55310357 0.05444532 0.18967566 0.12341889 0.02030161 0.05905503]\n",
            " [0.06794696 0.00728915 0.01282991 0.77068156 0.11297533 0.02827712]\n",
            " [0.01331148 0.03480061 0.01731132 0.26134583 0.6146143  0.05861649]\n",
            " ...\n",
            " [0.03135946 0.7567958  0.05567298 0.007553   0.118435   0.03018381]\n",
            " [0.6856611  0.10685781 0.11082686 0.04968324 0.01276192 0.03420906]\n",
            " [0.14785004 0.6020544  0.10350221 0.02829686 0.0908485  0.02744793]]\n",
            "[[0]\n",
            " [3]\n",
            " [4]\n",
            " [2]\n",
            " [5]\n",
            " [1]\n",
            " [0]\n",
            " [0]\n",
            " [5]\n",
            " [1]\n",
            " [2]\n",
            " [0]\n",
            " [0]\n",
            " [5]\n",
            " [5]\n",
            " [3]\n",
            " [5]\n",
            " [5]\n",
            " [3]\n",
            " [5]\n",
            " [1]\n",
            " [1]\n",
            " [5]\n",
            " [5]\n",
            " [4]\n",
            " [3]\n",
            " [2]\n",
            " [1]\n",
            " [0]\n",
            " [2]\n",
            " [5]\n",
            " [3]\n",
            " [0]\n",
            " [0]\n",
            " [2]\n",
            " [0]\n",
            " [5]\n",
            " [5]\n",
            " [2]\n",
            " [2]\n",
            " [4]\n",
            " [0]\n",
            " [4]\n",
            " [4]\n",
            " [2]\n",
            " [0]\n",
            " [3]\n",
            " [0]\n",
            " [4]\n",
            " [2]\n",
            " [2]\n",
            " [4]\n",
            " [4]\n",
            " [3]\n",
            " [4]\n",
            " [0]\n",
            " [5]\n",
            " [2]\n",
            " [3]\n",
            " [1]\n",
            " [3]\n",
            " [5]\n",
            " [1]\n",
            " [2]\n",
            " [4]\n",
            " [3]\n",
            " [1]\n",
            " [2]\n",
            " [0]\n",
            " [4]\n",
            " [5]\n",
            " [4]\n",
            " [0]\n",
            " [3]\n",
            " [1]\n",
            " [3]\n",
            " [3]\n",
            " [4]\n",
            " [3]\n",
            " [2]\n",
            " [1]\n",
            " [4]\n",
            " [0]\n",
            " [1]\n",
            " [1]\n",
            " [3]\n",
            " [4]\n",
            " [1]\n",
            " [1]\n",
            " [4]\n",
            " [2]\n",
            " [5]\n",
            " [5]\n",
            " [2]\n",
            " [4]\n",
            " [1]\n",
            " [0]\n",
            " [5]\n",
            " [2]\n",
            " [5]\n",
            " [3]\n",
            " [4]\n",
            " [3]\n",
            " [2]\n",
            " [4]\n",
            " [4]\n",
            " [1]\n",
            " [2]\n",
            " [0]\n",
            " [0]\n",
            " [1]\n",
            " [0]\n",
            " [2]\n",
            " [4]\n",
            " [3]\n",
            " [3]\n",
            " [1]\n",
            " [4]\n",
            " [1]\n",
            " [1]\n",
            " [5]\n",
            " [5]\n",
            " [3]\n",
            " [1]\n",
            " [3]\n",
            " [0]\n",
            " [0]\n",
            " [1]\n",
            " [3]\n",
            " [1]\n",
            " [0]\n",
            " [5]\n",
            " [0]\n",
            " [2]\n",
            " [3]\n",
            " [2]\n",
            " [2]\n",
            " [0]\n",
            " [3]\n",
            " [3]\n",
            " [5]\n",
            " [0]\n",
            " [2]\n",
            " [5]\n",
            " [4]\n",
            " [0]\n",
            " [3]\n",
            " [3]\n",
            " [0]\n",
            " [1]\n",
            " [5]\n",
            " [3]\n",
            " [1]\n",
            " [2]\n",
            " [1]\n",
            " [0]\n",
            " [0]\n",
            " [0]\n",
            " [2]\n",
            " [3]\n",
            " [1]\n",
            " [1]\n",
            " [3]\n",
            " [5]\n",
            " [0]\n",
            " [5]\n",
            " [5]\n",
            " [5]\n",
            " [4]\n",
            " [1]\n",
            " [2]\n",
            " [1]\n",
            " [5]\n",
            " [2]\n",
            " [4]\n",
            " [4]\n",
            " [1]\n",
            " [4]\n",
            " [0]\n",
            " [4]\n",
            " [2]\n",
            " [3]\n",
            " [4]\n",
            " [2]\n",
            " [4]\n",
            " [0]\n",
            " [0]\n",
            " [1]\n",
            " [0]\n",
            " [1]]\n",
            "(190, 1)\n",
            "int64\n"
          ]
        }
      ]
    },
    {
      "cell_type": "code",
      "source": [
        "output = EEGNet_pred_test\n",
        "assert(output.shape == (190, 1))\n",
        "np.savetxt('eegnet_output.csv', output, fmt=\"%d\", delimiter=\",\")"
      ],
      "metadata": {
        "id": "Ge8jZUU8gve3"
      },
      "execution_count": 15,
      "outputs": []
    },
    {
      "cell_type": "markdown",
      "source": [
        "## Model Competition Part"
      ],
      "metadata": {
        "id": "qnHnQ_yVerBo"
      }
    },
    {
      "cell_type": "code",
      "source": [
        "# Build your model here:\n"
      ],
      "metadata": {
        "id": "zlhO90b9iB_-"
      },
      "execution_count": 16,
      "outputs": []
    },
    {
      "cell_type": "code",
      "source": [
        "output = EEGNet_pred_test\n",
        "assert(output.shape == (190, 1))\n",
        "np.savetxt('competition_output.csv', output, fmt=\"%d\", delimiter=\",\")"
      ],
      "metadata": {
        "id": "m097nvkXiIqY"
      },
      "execution_count": 17,
      "outputs": []
    }
  ]
}