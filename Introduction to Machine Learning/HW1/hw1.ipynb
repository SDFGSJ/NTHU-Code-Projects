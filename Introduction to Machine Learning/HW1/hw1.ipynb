{
  "nbformat": 4,
  "nbformat_minor": 0,
  "metadata": {
    "colab": {
      "provenance": [],
      "collapsed_sections": []
    },
    "kernelspec": {
      "name": "python3",
      "display_name": "Python 3"
    },
    "language_info": {
      "name": "python"
    }
  },
  "cells": [
    {
      "cell_type": "markdown",
      "source": [
        "# **HW1: Regression** \n",
        "In *assignment 1*, you need to finish:\n",
        "\n",
        "1.  Basic Part: Implement the regression model to predict the number of dengue cases\n",
        "\n",
        "\n",
        "> *   Step 1: Split Data\n",
        "> *   Step 2: Preprocess Data\n",
        "> *   Step 3: Implement Regression\n",
        "> *   Step 4: Make Prediction\n",
        "> *   Step 5: Train Model and Generate Result\n",
        "\n",
        "2.  Advanced Part: Implementing a regression model to predict the number of dengue cases in a different way than the basic part"
      ],
      "metadata": {
        "id": "X_Te27fi-0pP"
      }
    },
    {
      "cell_type": "markdown",
      "source": [
        "# 1. Basic Part (60%)\n",
        "In the first part, you need to implement the regression to predict the number of dengue cases\n",
        "\n",
        "Please save the prediction result in a csv file **hw1_basic.csv**\n"
      ],
      "metadata": {
        "id": "_wDdnos-4uUv"
      }
    },
    {
      "cell_type": "markdown",
      "source": [
        "## Import Packages\n",
        "\n",
        "> Note: You **cannot** import any other package in the basic part"
      ],
      "metadata": {
        "id": "RzCR7vk9BFkf"
      }
    },
    {
      "cell_type": "code",
      "source": [
        "import numpy as np\n",
        "import matplotlib.pyplot as plt\n",
        "import pandas as pd\n",
        "import csv\n",
        "import math\n",
        "import random"
      ],
      "metadata": {
        "id": "HL5XjqFf4wSj"
      },
      "execution_count": 1,
      "outputs": []
    },
    {
      "cell_type": "markdown",
      "source": [
        "## Global attributes\n",
        "Define the global attributes"
      ],
      "metadata": {
        "id": "jnWjrzi0dMPz"
      }
    },
    {
      "cell_type": "code",
      "source": [
        "input_dataroot = 'hw1_basic_input.csv' # Input file named as 'hw1_basic_input.csv'\n",
        "output_dataroot = 'hw1_basic.csv' # Output file will be named as 'hw1_basic.csv'\n",
        "\n",
        "input_datalist =  [] # Initial datalist, saved as numpy array\n",
        "output_datalist =  [] # Your prediction, should be 10 * 4 matrix and saved as numpy array\n",
        "             # The format of each row should be ['epiweek', 'CityA', 'CityB', 'CityC']"
      ],
      "metadata": {
        "id": "EWLDPOlHBbcK"
      },
      "execution_count": 2,
      "outputs": []
    },
    {
      "cell_type": "markdown",
      "source": [
        "You can add your own global attributes here\n"
      ],
      "metadata": {
        "id": "PsFC-cvqIcYK"
      }
    },
    {
      "cell_type": "code",
      "source": [
        "# x = temperature, y = cases\n",
        "split_data = [] # data that doesnt contain ''\n",
        "\n",
        "a_train_x = []\n",
        "a_train_y = []\n",
        "a_test_x = []\n",
        "a_test_y = []\n",
        "a_predict_x = []\n",
        "a_predict_y = []\n",
        "\n",
        "b_train_x = []\n",
        "b_train_y = []\n",
        "b_test_x = []\n",
        "b_test_y = []\n",
        "b_predict_x = []\n",
        "b_predict_y = []\n",
        "\n",
        "c_train_x = []\n",
        "c_train_y = []\n",
        "c_test_x = []\n",
        "c_test_y = []\n",
        "c_predict_x = []\n",
        "c_predict_y = []"
      ],
      "metadata": {
        "id": "OUbS2BEgcut6"
      },
      "execution_count": 3,
      "outputs": []
    },
    {
      "cell_type": "markdown",
      "source": [
        "## Load the Input File\n",
        "First, load the basic input file **hw1_basic_input.csv**\n",
        "\n",
        "Input data would be stored in *input_datalist*"
      ],
      "metadata": {
        "id": "rUoRFoQjBW5S"
      }
    },
    {
      "cell_type": "code",
      "source": [
        "# Read input csv to datalist\n",
        "with open(input_dataroot, newline='') as csvfile:\n",
        "    input_datalist = np.array(list(csv.reader(csvfile)))"
      ],
      "metadata": {
        "id": "dekR1KnqBtI6"
      },
      "execution_count": 4,
      "outputs": []
    },
    {
      "cell_type": "markdown",
      "source": [
        "## Implement the Regression Model\n",
        "\n",
        "> Note: It is recommended to use the functions we defined, you can also define your own functions\n"
      ],
      "metadata": {
        "id": "6kYPuikLCFx4"
      }
    },
    {
      "cell_type": "markdown",
      "source": [
        "### Step 1: Split Data\n",
        "Split data in *input_datalist* into training dataset and validation dataset \n",
        "\n"
      ],
      "metadata": {
        "id": "jWwdx06JNEYs"
      }
    },
    {
      "cell_type": "code",
      "source": [
        "def SplitData():\n",
        "    global a_train_x, a_train_y, a_test_x, a_test_y, a_predict_x, a_predict_y\n",
        "    global b_train_x, b_train_y, b_test_x, b_test_y, b_predict_x, b_predict_y\n",
        "    global c_train_x, c_train_y, c_test_x, c_test_y, c_predict_x, c_predict_y\n",
        "\n",
        "    # skip [0] since it's column name\n",
        "    # remove the data that contains ''\n",
        "    for row in input_datalist[1:]:\n",
        "        if '' not in row:\n",
        "            split_data.append(list(row))\n",
        "\n",
        "    \"\"\"\n",
        "    MAPE(A, B, C) of training data len:\n",
        "    [-60:-15] => 51.63%, 6.24%, 26.49%  => 27.6\n",
        "    [-60:-20] => 46.03%, 18.43%, 31.80% => 31.6\n",
        "    [-50:-15] => 46.10%, 4.71%, 12.20%  => 20.6 <===\n",
        "    [-50:-20] => 39.44%, 17.32%, 18.78% => 24.6\n",
        "    [-40:-15] => 58.18%, 6.24%, 11.55%  => 25\n",
        "    [-40:-20] => 52.10%, 17.93%, 10.45% => 26.3\n",
        "    \"\"\"\n",
        "\n",
        "    # training data\n",
        "    for row in split_data[-50:-15]:\n",
        "        a_train_x.append(float(row[1]))\n",
        "        a_train_y.append(int(row[4]))\n",
        "\n",
        "        b_train_x.append(float(row[2]))\n",
        "        b_train_y.append(int(row[5]))\n",
        "\n",
        "        c_train_x.append(float(row[3]))\n",
        "        c_train_y.append(int(row[6]))\n",
        "\n",
        "\n",
        "    # test data, [-10:] is for prediction, not testing\n",
        "    for row in split_data[-15:-10]:\n",
        "        a_test_x.append(float(row[1]))\n",
        "        a_test_y.append(int(row[4]))\n",
        "\n",
        "        b_test_x.append(float(row[2]))\n",
        "        b_test_y.append(int(row[5]))\n",
        "\n",
        "        c_test_x.append(float(row[3]))\n",
        "        c_test_y.append(int(row[6]))\n",
        "\n",
        "\n",
        "    # predict data => [-10:]\n",
        "    for row in split_data[-10:]:\n",
        "        a_predict_x.append(float(row[1]))\n",
        "        a_predict_y.append(int(row[4]))\n",
        "\n",
        "        b_predict_x.append(float(row[2]))\n",
        "        b_predict_y.append(int(row[5]))\n",
        "\n",
        "        c_predict_x.append(float(row[3]))\n",
        "        c_predict_y.append(int(row[6]))"
      ],
      "metadata": {
        "id": "USDciENcB-5F"
      },
      "execution_count": 5,
      "outputs": []
    },
    {
      "cell_type": "markdown",
      "source": [
        "### Step 2: Preprocess Data\n",
        "Handle the unreasonable data\n",
        "> Hint: Outlier and missing data can be handled by removing the data or adding the values with the help of statistics  "
      ],
      "metadata": {
        "id": "u-3Qln4aNgVy"
      }
    },
    {
      "cell_type": "code",
      "source": [
        "def PreprocessData():\n",
        "    global a_train_x, a_train_y, a_test_x, a_test_y, a_predict_x, a_predict_y\n",
        "    global b_train_x, b_train_y, b_test_x, b_test_y, b_predict_x, b_predict_y\n",
        "    global c_train_x, c_train_y, c_test_x, c_test_y, c_predict_x, c_predict_y\n",
        "\n",
        "    # city a temperature\n",
        "    for i in range(len(a_train_x)):\n",
        "        temp = a_train_x[i]\n",
        "        if temp<=15 or temp>=35:\n",
        "            a_train_x[i] = 25\n",
        "    \n",
        "    # city a cases\n",
        "    for i in range(len(a_train_y)):\n",
        "        case = a_train_y[i]\n",
        "        if case>=100:\n",
        "            a_train_y[i] = int(a_train_y[i]*0.3)\n",
        "    \n",
        "    # city b temperature\n",
        "    for i in range(len(b_train_x)):\n",
        "        temp = b_train_x[i]\n",
        "        if temp<=15 or temp>=30:\n",
        "            b_train_x[i] = 22\n",
        "\n",
        "    # city b cases\n",
        "    for i in range(len(b_train_y)):\n",
        "        temp = b_train_y[i]\n",
        "        if temp>=60:\n",
        "            b_train_y[i] -= 40\n",
        "\n",
        "    # city c temperature\n",
        "    for i in range(len(c_train_x)):\n",
        "        temp = c_train_x[i]\n",
        "        if temp<=17 or temp>=40:\n",
        "            c_train_x[i] = 25\n",
        "\n",
        "    # city c cases\n",
        "    for i in range(len(c_train_y)):\n",
        "        temp = c_train_y[i]\n",
        "        if temp>=80:\n",
        "            c_train_y[i] -= 40\n",
        "\n",
        "    a_train_x = np.array(a_train_x)\n",
        "    a_train_y = np.array(a_train_y)\n",
        "    a_test_x = np.array(a_test_x)\n",
        "    a_test_y = np.array(a_test_y)\n",
        "    a_predict_x = np.array(a_predict_x)\n",
        "    a_predict_y = np.array(a_predict_y)\n",
        "\n",
        "    b_train_x = np.array(b_train_x)\n",
        "    b_train_y = np.array(b_train_y)\n",
        "    b_test_x = np.array(b_test_x)\n",
        "    b_test_y = np.array(b_test_y)\n",
        "    b_predict_x = np.array(b_predict_x)\n",
        "    b_predict_y = np.array(b_predict_y)\n",
        "\n",
        "    c_train_x = np.array(c_train_x)\n",
        "    c_train_y = np.array(c_train_y)\n",
        "    c_test_x = np.array(c_test_x)\n",
        "    c_test_y = np.array(c_test_y)\n",
        "    c_predict_x = np.array(c_predict_x)\n",
        "    c_predict_y = np.array(c_predict_y)"
      ],
      "metadata": {
        "id": "XXvW1n_5NkQ5"
      },
      "execution_count": 6,
      "outputs": []
    },
    {
      "cell_type": "markdown",
      "source": [
        "\n",
        "### Step 3: Implement Regression\n",
        "> Hint: You can use Matrix Inversion, or Gradient Descent to finish this part\n",
        "\n",
        "\n"
      ],
      "metadata": {
        "id": "yDLpJmQUN3V6"
      }
    },
    {
      "cell_type": "code",
      "source": [
        "def Regression():\n",
        "    model_a = np.polyfit(a_train_x, a_train_y, 2)\n",
        "    model_b = np.polyfit(b_train_x, b_train_y, 1)\n",
        "    model_c = np.polyfit(c_train_x, c_train_y, 1)\n",
        "    print(\"city a model = \", model_a)\n",
        "    print(\"city b model = \", model_b)\n",
        "    print(\"city c model = \", model_c, \"\\n\")\n",
        "    return model_a, model_b, model_c"
      ],
      "metadata": {
        "id": "Tx9n1_23N8C0"
      },
      "execution_count": 7,
      "outputs": []
    },
    {
      "cell_type": "markdown",
      "source": [
        "### Step 4: Make Prediction\n",
        "Make prediction of testing dataset and store the value in *output_datalist*"
      ],
      "metadata": {
        "id": "2NxRNFwyN8xd"
      }
    },
    {
      "cell_type": "code",
      "source": [
        "def MakePrediction(model_a, model_b, model_c):\n",
        "    global a_predict_x, a_predict_y\n",
        "    global b_predict_x, b_predict_y\n",
        "    global c_predict_x, c_predict_y\n",
        "\n",
        "    # predict_y = [0, 0, ..., 0] at first\n",
        "    a_predict_y = np.polyval(model_a, a_predict_x)\n",
        "    b_predict_y = np.polyval(model_b, b_predict_x)\n",
        "    c_predict_y = np.polyval(model_c, c_predict_x)\n",
        "\n",
        "    a_predict_y = np.array([int(i) for i in list(a_predict_y)])\n",
        "    b_predict_y = np.array([int(i) for i in list(b_predict_y)])\n",
        "    c_predict_y = np.array([int(i) for i in list(c_predict_y)])"
      ],
      "metadata": {
        "id": "EKlDIC2-N_lk"
      },
      "execution_count": 8,
      "outputs": []
    },
    {
      "cell_type": "code",
      "source": [
        "# test test_x, test_y\n",
        "def Test(model_a, model_b, model_c):\n",
        "    global a_test_x, a_test_y\n",
        "    global b_test_x, b_test_y\n",
        "    global c_test_x, c_test_y\n",
        "\n",
        "    def mape(actual, predict):\n",
        "        return np.mean(np.abs((actual - predict) / actual)) * 100\n",
        "\n",
        "    # test_y => standard answer\n",
        "    # result => our evaluation\n",
        "    result = np.polyval(model_a, a_test_x)\n",
        "    result = np.array([int(i) for i in list(result)])\n",
        "    print(f\"A: mape = {mape(a_test_y, result):.2f}%\")\n",
        "    \n",
        "    result = np.polyval(model_b, b_test_x)\n",
        "    result = np.array([int(i) for i in list(result)])\n",
        "    print(f\"B: mape = {mape(b_test_y, result):.2f}%\")\n",
        "\n",
        "    result = np.polyval(model_c, c_test_x)\n",
        "    result = np.array([int(i) for i in list(result)])\n",
        "    print(f\"C: mape = {mape(c_test_y, result):.2f}%\")"
      ],
      "metadata": {
        "id": "N-yd58bLC7L6"
      },
      "execution_count": 9,
      "outputs": []
    },
    {
      "cell_type": "code",
      "source": [
        "def Plot():\n",
        "    global a_train_x, a_train_y, a_test_x, a_test_y, a_predict_x, a_predict_y\n",
        "    global b_train_x, b_train_y, b_test_x, b_test_y, b_predict_x, b_predict_y\n",
        "    global c_train_x, c_train_y, c_test_x, c_test_y, c_predict_x, c_predict_y\n",
        "    \n",
        "    plt.title(\"city a\")\n",
        "    plt.scatter(a_train_x, a_train_y, color = 'blue')\n",
        "    plt.scatter(a_test_x, a_test_y, color = 'red')\n",
        "    plt.scatter(a_predict_x, a_predict_y, color = 'orange')\n",
        "    plt.show()\n",
        "\n",
        "    plt.title(\"city b\")\n",
        "    plt.scatter(b_train_x, b_train_y, color = 'blue')\n",
        "    plt.scatter(b_test_x, b_test_y, color = 'red')\n",
        "    plt.scatter(b_predict_x, b_predict_y, color = 'orange')\n",
        "    plt.show()\n",
        "\n",
        "    plt.title(\"city c\")\n",
        "    plt.scatter(c_train_x, c_train_y, color = 'blue')\n",
        "    plt.scatter(c_test_x, c_test_y, color = 'red')\n",
        "    plt.scatter(c_predict_x, c_predict_y, color = 'orange')\n",
        "    plt.show()"
      ],
      "metadata": {
        "id": "2L4K9fMOPiNM"
      },
      "execution_count": 10,
      "outputs": []
    },
    {
      "cell_type": "markdown",
      "source": [
        "### Step 5: Train Model and Generate Result\n",
        "\n",
        "> Notice: **Remember to output the coefficients of the model here**, otherwise 5 points would be deducted\n",
        "* If your regression model is *3x^2 + 2x^1 + 1*, your output would be: \n",
        "```\n",
        "3 2 1\n",
        "```\n",
        "\n",
        "\n",
        "\n"
      ],
      "metadata": {
        "id": "cCd0Z6izOCwq"
      }
    },
    {
      "cell_type": "code",
      "source": [
        "# remember to test the function\n",
        "SplitData()\n",
        "PreprocessData()\n",
        "model_a, model_b, model_c = Regression()    # remember to print the coef\n",
        "MakePrediction(model_a, model_b, model_c)\n",
        "Test(model_a, model_b, model_c)\n",
        "#Plot()"
      ],
      "metadata": {
        "id": "iCL92EPKOFIn",
        "colab": {
          "base_uri": "https://localhost:8080/"
        },
        "outputId": "6845f64b-4376-4e6f-94b5-2ace3631236e"
      },
      "execution_count": 11,
      "outputs": [
        {
          "output_type": "stream",
          "name": "stdout",
          "text": [
            "city a model =  [  -0.48105859   24.01307842 -260.79126575]\n",
            "city b model =  [-0.57694117 36.11129474]\n",
            "city c model =  [ -3.71290268 138.97913453] \n",
            "\n",
            "A: mape = 46.10%\n",
            "B: mape = 4.71%\n",
            "C: mape = 12.20%\n"
          ]
        }
      ]
    },
    {
      "cell_type": "markdown",
      "source": [
        "## Write the Output File\n",
        "Write the prediction to output csv\n",
        "> Format: 'epiweek', 'CityA', 'CityB', 'CityC'"
      ],
      "metadata": {
        "id": "J8Jhd8wAOk3D"
      }
    },
    {
      "cell_type": "code",
      "source": [
        "week_of_year = [row[0] for row in split_data[-10:]]\n",
        "\n",
        "output_datalist = list(zip(week_of_year, a_predict_y, b_predict_y, c_predict_y))\n",
        "\n",
        "with open(output_dataroot, 'w', newline='', encoding=\"utf-8\") as csvfile:\n",
        "    writer = csv.writer(csvfile)\n",
        "    for row in output_datalist:\n",
        "        writer.writerow(row)"
      ],
      "metadata": {
        "id": "tYQVYLlKOtDB"
      },
      "execution_count": 12,
      "outputs": []
    },
    {
      "cell_type": "markdown",
      "source": [
        "# 2. Advanced Part (35%)\n",
        "In the second part, you need to implement the regression in a different way than the basic part to help your predictions for the number of dengue cases\n",
        "\n",
        "We provide you with two files **hw1_advanced_input1.csv** and **hw1_advanced_input2.csv** that can help you in this part\n",
        "\n",
        "Please save the prediction result in a csv file **hw1_advanced.csv** \n"
      ],
      "metadata": {
        "id": "rx4408qg4xMQ"
      }
    },
    {
      "cell_type": "code",
      "source": [
        "import numpy as np\n",
        "import matplotlib.pyplot as plt\n",
        "import pandas as pd\n",
        "import csv\n",
        "import math\n",
        "import random\n",
        "from sklearn import linear_model\n",
        "from sklearn.model_selection import train_test_split\n",
        "\n",
        "# global var\n",
        "basic_input_dataroot = 'hw1_basic_input.csv'\n",
        "advanced_input_dataroot1 = 'hw1_advanced_input1.csv'\n",
        "advanced_input_dataroot2 = 'hw1_advanced_input2.csv'\n",
        "output_dataroot = 'hw1_advanced.csv'\n",
        "\n",
        "basic_input_datalist =  []\n",
        "advanced_input_datalist1 =  []\n",
        "advanced_input_datalist2 =  []\n",
        "output_datalist =  []\n",
        "\n",
        "# y = cases, x1 = temperature, x2 = precipitation, x3 = # of Houses per km^2\n",
        "split_data = [] # data that doesnt contain ''\n",
        "empty_entry_idx = []\n",
        "\n",
        "a_housesperKm2 = b_housesperKm2 = c_housesperKm2 = 0\n",
        "\n",
        "a_train_x1 = []\n",
        "a_train_x2 = []\n",
        "a_train_x3 = []\n",
        "a_train_y = []\n",
        "a_test_x1 = []\n",
        "a_test_x2 = []\n",
        "a_test_x3 = []\n",
        "a_test_y = []\n",
        "a_predict_x1 = []\n",
        "a_predict_x2 = []\n",
        "a_predict_x3 = []\n",
        "a_predict_y = []\n",
        "\n",
        "b_train_x1 = []\n",
        "b_train_x2 = []\n",
        "b_train_x3 = []\n",
        "b_train_y = []\n",
        "b_test_x1 = []\n",
        "b_test_x2 = []\n",
        "b_test_x3 = []\n",
        "b_test_y = []\n",
        "b_predict_x1 = []\n",
        "b_predict_x2 = []\n",
        "b_predict_x3 = []\n",
        "b_predict_y = []\n",
        "\n",
        "c_train_x1 = []\n",
        "c_train_x2 = []\n",
        "c_train_x3 = []\n",
        "c_train_y = []\n",
        "c_test_x1 = []\n",
        "c_test_x2 = []\n",
        "c_test_x3 = []\n",
        "c_test_y = []\n",
        "c_predict_x1 = []\n",
        "c_predict_x2 = []\n",
        "c_predict_x3 = []\n",
        "c_predict_y = []\n",
        "\n",
        "model_a = model_b = model_c = 0\n",
        "\n",
        "# Read input csv to datalist\n",
        "with open(basic_input_dataroot, newline='') as csvfile:\n",
        "    basic_input_datalist = np.array(list(csv.reader(csvfile)))\n",
        "\n",
        "with open(advanced_input_dataroot1, newline='') as csvfile:\n",
        "    advanced_input_datalist1 = np.array(list(csv.reader(csvfile)))\n",
        "\n",
        "with open(advanced_input_dataroot2, newline='') as csvfile:\n",
        "    advanced_input_datalist2 = np.array(list(csv.reader(csvfile)))\n",
        "\n",
        "def SplitBasicData():\n",
        "    global a_train_x1, a_train_y, a_test_x1, a_test_y, a_predict_x1, a_predict_y\n",
        "    global b_train_x1, b_train_y, b_test_x1, b_test_y, b_predict_x1, b_predict_y\n",
        "    global c_train_x1, c_train_y, c_test_x1, c_test_y, c_predict_x1, c_predict_y\n",
        "\n",
        "\n",
        "    # skip [0] since it's column name\n",
        "    # remove the data that contains ''\n",
        "    for idx, row in enumerate(basic_input_datalist[1:]):\n",
        "        if '' not in row:\n",
        "            split_data.append(list(row))\n",
        "        else:\n",
        "            empty_entry_idx.append(idx)\n",
        "\n",
        "    \"\"\"\n",
        "    MAPE(A, B, C) of training data len:\n",
        "    [-60:-15] => 53.45%, 6.05%, 19.90%  => 26\n",
        "    [-60:-20] => 49.54%, 18.10%, 24.58% => 30.3\n",
        "    [-50:-15] => 46.54%, 6.42%, 19.43%  => 23.6 <===\n",
        "    [-50:-20] => 46.80%, 18.30%, 16.72% => 26.6\n",
        "    [-40:-15] => 54.63%, 11.89%, 15.31% => 26.6\n",
        "    [-40:-20] => 65.73%, 20.82%, 14.43% => 33\n",
        "    \"\"\"\n",
        "\n",
        "    # training data\n",
        "    for row in split_data[-50:-15]:\n",
        "        a_train_x1.append(float(row[1]))\n",
        "        a_train_y.append(int(row[4]))\n",
        "\n",
        "        b_train_x1.append(float(row[2]))\n",
        "        b_train_y.append(int(row[5]))\n",
        "\n",
        "        c_train_x1.append(float(row[3]))\n",
        "        c_train_y.append(int(row[6]))\n",
        "\n",
        "\n",
        "    # test data, [-10:] is for prediction, not testing\n",
        "    for row in split_data[-15:-10]:\n",
        "        a_test_x1.append(float(row[1]))\n",
        "        a_test_y.append(int(row[4]))\n",
        "\n",
        "        b_test_x1.append(float(row[2]))\n",
        "        b_test_y.append(int(row[5]))\n",
        "\n",
        "        c_test_x1.append(float(row[3]))\n",
        "        c_test_y.append(int(row[6]))\n",
        "\n",
        "\n",
        "    # predict data\n",
        "    for row in split_data[-10:]:\n",
        "        a_predict_x1.append(float(row[1]))\n",
        "        a_predict_y.append(int(row[4]))\n",
        "\n",
        "        b_predict_x1.append(float(row[2]))\n",
        "        b_predict_y.append(int(row[5]))\n",
        "\n",
        "        c_predict_x1.append(float(row[3]))\n",
        "        c_predict_y.append(int(row[6]))\n",
        "\n",
        "\n",
        "def SplitAdvancedData():\n",
        "    global split_data\n",
        "    global a_housesperKm2, b_housesperKm2, c_housesperKm2\n",
        "    global a_train_x3, a_test_x3, a_predict_x3\n",
        "    global b_train_x3, b_test_x3, b_predict_x3\n",
        "    global c_train_x3, c_test_x3, c_predict_x3\n",
        "\n",
        "\n",
        "    split_data = list(advanced_input_datalist1[1:])    # reset\n",
        "    for idx in empty_entry_idx[::-1]:   # popping the element in reverse order ensures ordering in split_data\n",
        "        split_data.pop(idx)\n",
        "\n",
        "\n",
        "    # training data\n",
        "    for row in split_data[-50:-15]:\n",
        "        a_train_x2.append(float(row[1]))\n",
        "        b_train_x2.append(float(row[2]))\n",
        "        c_train_x2.append(float(row[3]))\n",
        "\n",
        "\n",
        "    # test data, [-10:] is for prediction, not testing\n",
        "    for row in split_data[-15:-10]:\n",
        "        a_test_x2.append(float(row[1]))\n",
        "        b_test_x2.append(float(row[2]))\n",
        "        c_test_x2.append(float(row[3]))\n",
        "\n",
        "\n",
        "    # predict data => [-10:]\n",
        "    for row in split_data[-10:]:\n",
        "        a_predict_x2.append(float(row[1]))\n",
        "        b_predict_x2.append(float(row[2]))\n",
        "        c_predict_x2.append(float(row[3]))\n",
        "\n",
        "\n",
        "    a_housesperKm2 = float(advanced_input_datalist2[1][24])\n",
        "    b_housesperKm2 = float(advanced_input_datalist2[2][24])\n",
        "    c_housesperKm2 = float(advanced_input_datalist2[3][24])\n",
        "\n",
        "    tmp = [a_housesperKm2 for i in range(99)]\n",
        "    a_train_x3, a_test_x3, a_predict_x3 = tmp[-50:-15], tmp[-15:-10], tmp[-10:]\n",
        "\n",
        "    tmp = [b_housesperKm2 for i in range(99)]\n",
        "    b_train_x3, b_test_x3, b_predict_x3 = tmp[-50:-15], tmp[-15:-10], tmp[-10:]\n",
        "\n",
        "    tmp = [c_housesperKm2 for i in range(99)]\n",
        "    c_train_x3, c_test_x3, c_predict_x3 = tmp[-50:-15], tmp[-15:-10], tmp[-10:]\n",
        "    \n",
        "def SplitData():\n",
        "    SplitBasicData()\n",
        "    SplitAdvancedData()\n",
        "\n",
        "def PreprocessData():\n",
        "    global a_train_x1, a_train_y\n",
        "    global b_train_x1, b_train_y\n",
        "    global c_train_x1, c_train_y\n",
        "\n",
        "    # city a temperature\n",
        "    for i in range(len(a_train_x1)):\n",
        "        temp = a_train_x1[i]\n",
        "        if temp<=15 or temp>=35:\n",
        "            a_train_x1[i] = 25\n",
        "    \n",
        "    # city a cases\n",
        "    for i in range(len(a_train_y)):\n",
        "        temp = a_train_y[i]\n",
        "        if temp>=125:\n",
        "            a_train_y[i] -= 75\n",
        "    \n",
        "    # city b temperature\n",
        "    for i in range(len(b_train_x1)):\n",
        "        temp = b_train_x1[i]\n",
        "        if temp<=15 or temp>=30:\n",
        "            b_train_x1[i] = 22\n",
        "\n",
        "    # city b cases\n",
        "    for i in range(len(b_train_y)):\n",
        "        temp = b_train_y[i]\n",
        "        if temp>=60:\n",
        "            b_train_y[i] -= 40\n",
        "\n",
        "    # city c temperature\n",
        "    for i in range(len(c_train_x1)):\n",
        "        temp = c_train_x1[i]\n",
        "        if temp<=15 or temp>=40:\n",
        "            c_train_x1[i] = 25\n",
        "\n",
        "    # city c cases\n",
        "    for i in range(len(c_train_y)):\n",
        "        temp = c_train_y[i]\n",
        "        if temp>=80:\n",
        "            c_train_y[i] -= 20\n",
        "\n",
        "def Regression():\n",
        "    global model_a, model_b, model_c\n",
        "    \n",
        "    model_a = linear_model.LinearRegression()  # linear regression object\n",
        "    model_b = linear_model.LinearRegression()\n",
        "    model_c = linear_model.LinearRegression()\n",
        "\n",
        "    X = list(zip(a_train_x1, a_train_x2, a_train_x3))\n",
        "    model_a.fit(X, a_train_y)\n",
        "    print(\"model A: coef = \", model_a.coef_, \"intercept = \", model_a.intercept_)\n",
        "\n",
        "    X = list(zip(b_train_x1, b_train_x2, b_train_x3))\n",
        "    model_b.fit(X, b_train_y)\n",
        "    print(\"model B: coef = \", model_b.coef_, \"intercept = \", model_b.intercept_)\n",
        "\n",
        "    X = list(zip(c_train_x1, c_train_x2, c_train_x3))\n",
        "    model_c.fit(X, c_train_y)\n",
        "    print(\"model C: coef = \", model_c.coef_, \"intercept = \", model_c.intercept_)\n",
        "\n",
        "def MakePrediction():\n",
        "    global a_predict_y, b_predict_y, c_predict_y\n",
        "\n",
        "    # predict_y = [0, 0, ..., 0] at first\n",
        "    X = list(zip(a_predict_x1, a_predict_x2, a_predict_x3))\n",
        "    a_predict_y = model_a.predict(X)\n",
        "    a_predict_y = [int(i) for i in list(a_predict_y)]\n",
        "\n",
        "    X = list(zip(b_predict_x1, b_predict_x2, b_predict_x3))\n",
        "    b_predict_y = model_b.predict(X)\n",
        "    b_predict_y = [int(i) for i in list(b_predict_y)]\n",
        "\n",
        "    X = list(zip(c_predict_x1, c_predict_x2, c_predict_x3))\n",
        "    c_predict_y = model_c.predict(X)\n",
        "    c_predict_y = [int(i) for i in list(c_predict_y)]\n",
        "\n",
        "def Test():\n",
        "    def mape(actual, predict):\n",
        "        return np.mean(np.abs((actual - predict) / actual)) * 100\n",
        "    \n",
        "    # test_y => standard answer\n",
        "    # result => our evaluation\n",
        "    X = list(zip(a_test_x1, a_test_x2, a_test_x3))\n",
        "    result = model_a.predict(X)\n",
        "    print(f\"MAPE(A) = {mape(a_test_y, result):.2f}%\")\n",
        "\n",
        "    X = list(zip(b_test_x1, b_test_x2, b_test_x3))\n",
        "    result = model_b.predict(X)\n",
        "    print(f\"MAPE(B) = {mape(b_test_y, result):.2f}%\")\n",
        "\n",
        "    X = list(zip(c_test_x1, c_test_x2, c_test_x3))\n",
        "    result = model_c.predict(X)\n",
        "    print(f\"MAPE(C) = {mape(c_test_y, result):.2f}%\")\n",
        "\n",
        "# remember to test the function\n",
        "SplitData()\n",
        "PreprocessData()\n",
        "Regression()\n",
        "MakePrediction()\n",
        "Test()\n",
        "\n",
        "week_of_year = [row[0] for row in split_data[-10:]]\n",
        "\n",
        "output_datalist = list(zip(week_of_year, a_predict_y, b_predict_y, c_predict_y))\n",
        "\n",
        "# write the output file\n",
        "with open(output_dataroot, 'w', newline='', encoding=\"utf-8\") as csvfile:\n",
        "    writer = csv.writer(csvfile)\n",
        "    for row in output_datalist:\n",
        "        writer.writerow(row)"
      ],
      "metadata": {
        "id": "DaZCe19m41g1",
        "colab": {
          "base_uri": "https://localhost:8080/"
        },
        "outputId": "b609ffda-7f77-4cde-cbb3-81533c877714"
      },
      "execution_count": 13,
      "outputs": [
        {
          "output_type": "stream",
          "name": "stdout",
          "text": [
            "model A: coef =  [-0.91526857 -0.15460752  0.00528221] intercept =  55.65772237222846\n",
            "model B: coef =  [-0.49186969 -0.17731504 -0.00057258] intercept =  36.25035847666443\n",
            "model C: coef =  [-2.89837988  0.8911305  -0.11469951] intercept =  122.0325296288359\n",
            "MAPE(A) = 46.54%\n",
            "MAPE(B) = 6.42%\n",
            "MAPE(C) = 19.43%\n"
          ]
        }
      ]
    },
    {
      "cell_type": "markdown",
      "source": [
        "# Report *(5%)*\n",
        "\n",
        "Report should be submitted as a pdf file **hw1_report.pdf**\n",
        "\n",
        "*   Briefly describe the difficulty you encountered \n",
        "*   Summarize your work and your reflections \n",
        "*   No more than one page\n",
        "\n",
        "\n",
        "\n",
        "\n"
      ],
      "metadata": {
        "id": "EtgCJU7FPeJL"
      }
    },
    {
      "cell_type": "markdown",
      "source": [
        "# Save the Code File\n",
        "Please save your code and submit it as an ipynb file! (**hw1.ipynb**)"
      ],
      "metadata": {
        "id": "hlEE53_MPf4W"
      }
    }
  ]
}